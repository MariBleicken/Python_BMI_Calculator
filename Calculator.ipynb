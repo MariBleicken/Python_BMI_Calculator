{
 "cells": [
  {
   "cell_type": "markdown",
   "id": "b6ef515f",
   "metadata": {},
   "source": [
    "# BMI Calculator\n",
    "https://mercer-health.com/services/weight-management-center/bmi-calculator#:~:text=Body%20Mass%20Index%2C%20or%20BMI,inches%20x%20height%20in%20inches"
   ]
  },
  {
   "cell_type": "markdown",
   "id": "757562ed",
   "metadata": {},
   "source": [
    "#Reference\n",
    "\n",
    "Under 18.5\tUnderweight\tMinimal\n",
    "18.5 - 24.9\tNormal Weight\tMinimal\n",
    "25 - 29.9\tOverweight\tIncreased\n",
    "30 - 34.9\tObese\tHigh\n",
    "35 - 39.9\tSeverely Obese\tVery High\n",
    "40 and over\tMorbidly Obese\tExtremely High"
   ]
  },
  {
   "cell_type": "code",
   "execution_count": 2,
   "id": "260c89b2",
   "metadata": {},
   "outputs": [
    {
     "name": "stdout",
     "output_type": "stream",
     "text": [
      "Enter your name: Mariana\n",
      "Enter your weight in pounds: 134\n",
      "Enter your weight in inches: 66\n",
      "21.625803489439853\n",
      "Mariana, You are normal weight.\n"
     ]
    }
   ],
   "source": [
    "name = input(\"Enter your name: \")\n",
    "\n",
    "weight = int(input(\"Enter your weight in pounds: \"))\n",
    "\n",
    "height = int(input(\"Enter your weight in inches: \"))\n",
    "\n",
    "\n",
    "BMI = (weight * 703) / (height * height)\n",
    "\n",
    "print(BMI)\n",
    "\n",
    "if BMI>0:   \n",
    "    if(BMI<18.5):\n",
    "        print(name +\", You are underweight.\")\n",
    "    elif(BMI<24.9):\n",
    "        print(name +\", You are normal weight.\")\n",
    "    elif(BMI<29.9):\n",
    "        print(name +\", You are overweight.\")\n",
    "    elif(BMI<34.9):\n",
    "        print(name +\", You are obese.\")\n",
    "    elif(BMI<34.9):\n",
    "        print(name +\", You are severely obese.\")\n",
    "    \n",
    "else: print(\"Enter valid input\")"
   ]
  },
  {
   "cell_type": "code",
   "execution_count": null,
   "id": "2c72a138",
   "metadata": {},
   "outputs": [],
   "source": []
  }
 ],
 "metadata": {
  "kernelspec": {
   "display_name": "Python 3 (ipykernel)",
   "language": "python",
   "name": "python3"
  },
  "language_info": {
   "codemirror_mode": {
    "name": "ipython",
    "version": 3
   },
   "file_extension": ".py",
   "mimetype": "text/x-python",
   "name": "python",
   "nbconvert_exporter": "python",
   "pygments_lexer": "ipython3",
   "version": "3.9.13"
  }
 },
 "nbformat": 4,
 "nbformat_minor": 5
}
